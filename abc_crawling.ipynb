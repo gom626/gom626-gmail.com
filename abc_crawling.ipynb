{
 "cells": [
  {
   "cell_type": "code",
   "execution_count": 20,
   "metadata": {},
   "outputs": [],
   "source": [
    "from selenium import webdriver\n",
    "from bs4 import BeautifulSoup\n",
    "import urllib.request"
   ]
  },
  {
   "cell_type": "code",
   "execution_count": 43,
   "metadata": {},
   "outputs": [
    {
     "name": "stdout",
     "output_type": "stream",
     "text": [
      "['나이키', '나이키 에어 맥스 퓨전', 'https://image.a-rt.com/art/product/2020/03/56513_1585018055443.jpg?shrink=590:590']\n",
      "['나이키', '나이키 코트 로얄 캔버스', 'https://image.a-rt.com/art/product/2020/03/31321_1584937179953.jpg?shrink=590:590']\n",
      "['나이키', '에어 테일윈드 79', 'https://image.a-rt.com/art/product/2020/02/93932_1581058301008.jpg?shrink=590:590']\n",
      "['나이키', '나이키 에어 맥스 엑시스', 'https://image.a-rt.com/art/product/upload/AA2146_009/S1.jpg?shrink=590:590']\n",
      "['나이키', '우먼스 나이키 에어 맥스 엑시스', 'https://image.a-rt.com/art/product/upload/AA2168_100/S1.jpg?shrink=590:590']\n",
      "['반스', '스케이트8-하이 킵 플러스', 'https://image.a-rt.com/art/product/2020/03/34544_1584664877096.jpg?shrink=590:590']\n",
      "['반스', '올드 스쿨', 'https://image.a-rt.com/art/product/upload2/VN0A38G1P0S_(PRIMARY%20CHECK)%20BLACK%2BWHITE/S1.jpg?shrink=590:590']\n",
      "['반스', '유니언', 'https://image.a-rt.com/art/product/2020/03/88836_1585033592378.jpg?shrink=590:590']\n",
      "['휠라', '스키퍼', 'https://image.a-rt.com/art/product/2020/03/92605_1585016198448.jpg?shrink=590:590']\n",
      "['푸마', '바리 뮬', 'https://image.a-rt.com/art/product/2020/03/32975_1584940385004.jpg?shrink=590:590']\n",
      "['스케쳐스', '딜 라이트 에어리 2.0', 'https://image.a-rt.com/art/product/2020/03/36125_1584680546537.jpg?shrink=590:590']\n",
      "['아디다스', '듀라모 에스엘', 'https://image.a-rt.com/art/product/2020/03/97557_1584336596300.jpg?shrink=590:590']\n",
      "['뉴발란스', 'MS109LA1', 'https://image.a-rt.com/art/product/2020/02/86646_1581053864684.jpg?shrink=590:590']\n",
      "['아디다스', '슈퍼스타', 'https://image.a-rt.com/art/product/2020/03/89871_1584678333029.jpg?shrink=590:590']\n",
      "['아디다스', '슈퍼스타 엠지', 'https://image.a-rt.com/art/product/2020/03/66196_1584678553422.jpg?shrink=590:590']\n",
      "['스테파노로시', '킬케아', 'https://image.a-rt.com/art/product/2020/03/75509_1584596406874.jpg?shrink=590:590']\n",
      "['반스', '어센틱', 'https://image.a-rt.com/art/product/upload2/VN-0EE3BLK_BLACK/S1.jpg?shrink=590:590']\n",
      "['반스', '에라', 'https://image.a-rt.com/art/product/upload2/VN-0EWZBLK_BLACK/S1.jpg?shrink=590:590']\n",
      "['나이키', '나이키 이니시에이터', 'https://image.a-rt.com/art/product/2020/01/41713_1580267303294.jpg?shrink=590:590']\n",
      "['팀버랜드', '브루클린 옥스포드', 'https://image.a-rt.com/art/product/2020/03/92192_1584421423919.jpg?shrink=590:590']\n",
      "['프레드 페리', '언더스핀 레더', 'https://image.a-rt.com/art/product/2020/03/31616_1584413034905.jpg?shrink=590:590']\n",
      "['컨버스', '척테일러 올스타 70', 'https://image.a-rt.com/art/product/2020/01/79253_1580457500127.jpg?shrink=590:590']\n",
      "['반스', '스타일 36', 'https://image.a-rt.com/art/product/upload2/VN0A3DZ3OXS_MARSHMALLOW%2BRACING%20RED/S1.jpg?shrink=590:590']\n",
      "['컨버스', '척테일러 올스타 코어', 'https://image.a-rt.com/art/product/upload3/M9166C_Black/S1.jpg?shrink=590:590']\n",
      "['반스', '컴피쿠시 에라', 'https://image.a-rt.com/art/product/2020/03/43153_1584421777480.jpg?shrink=590:590']\n",
      "['휠라', '카가토 샤인', 'https://image.a-rt.com/art/product/2020/03/91041_1583973846419.jpg?shrink=590:590']\n",
      "['휠라', '더블 메이커 캔버스 ', 'https://image.a-rt.com/art/product/2020/03/34463_1584080397975.jpg?shrink=590:590']\n",
      "['휠라', '더블 메이커 캔버스', 'https://image.a-rt.com/art/product/2020/03/55766_1584080158852.jpg?shrink=590:590']\n",
      "['뉴발란스', 'W413LG1', 'https://image.a-rt.com/art/product/2020/03/55115_1584347080567.jpg?shrink=590:590']\n",
      "['뉴발란스', 'M413LR1', 'https://image.a-rt.com/art/product/2020/03/85904_1584346887793.jpg?shrink=590:590']\n"
     ]
    },
    {
     "data": {
      "text/plain": [
       "'\\nfor data in target.find_all(\\'div\\',class_=\"prod-item-inner\"):\\n    img=data.find(\\'img\\')\\n    #print(\"##\")\\n    #print(img)\\n    #print(type(img))\\n    #if(img.get(\\'src\\')==None):\\n    #    continue\\n    #print(\"##\")\\n    #image_data.append(img.get_attribute(\\'src\\'))\\n    print(data)\\nprint(image_data)\\n#print(target)'"
      ]
     },
     "execution_count": 43,
     "metadata": {},
     "output_type": "execute_result"
    }
   ],
   "source": [
    "driver=webdriver.Chrome('/Users/Seungmin/chromedriver')\n",
    "driver.implicitly_wait(3)\n",
    "driver.get('https://abcmart.a-rt.com/display/category/main?dfltChnnlMv=Y&genderGbnCode=10000&ctgrNo=1000000245')\n",
    "html=driver.page_source\n",
    "bsObject=BeautifulSoup(html,\"html.parser\")\n",
    "target=bsObject.body.find('div',class_=\"col-list-wrap category-product-list-wrap\")\n",
    "dic={}\n",
    "for data in target.find_all('div',class_=\"prod-item-inner\"):\n",
    "    contain=[]\n",
    "    brand=data.find('span',class_=\"prod-brand\").text\n",
    "    name=data.find('span',class_=\"prod-name\").text\n",
    "    img=data.find('img').get('src')\n",
    "    contain.append(brand)\n",
    "    contain.append(name)\n",
    "    contain.append(img)\n",
    "    dic[name]=contain\n",
    "#image_data=[]\n",
    "#print(target)\n",
    "for k,v in dic.items():\n",
    "    name=v[1]+\"-\"+v[0]+\".jpg\"\n",
    "    urllib.request.urlretrieve(v[2],name)\n",
    "\n",
    "for k,v in dic.items():\n",
    "    print(v)"
   ]
  },
  {
   "cell_type": "code",
   "execution_count": null,
   "metadata": {},
   "outputs": [],
   "source": []
  }
 ],
 "metadata": {
  "kernelspec": {
   "display_name": "Python 3",
   "language": "python",
   "name": "python3"
  },
  "language_info": {
   "codemirror_mode": {
    "name": "ipython",
    "version": 3
   },
   "file_extension": ".py",
   "mimetype": "text/x-python",
   "name": "python",
   "nbconvert_exporter": "python",
   "pygments_lexer": "ipython3",
   "version": "3.7.6"
  }
 },
 "nbformat": 4,
 "nbformat_minor": 4
}
