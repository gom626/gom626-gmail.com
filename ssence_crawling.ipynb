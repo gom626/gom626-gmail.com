{
 "cells": [
  {
   "cell_type": "code",
   "execution_count": 50,
   "metadata": {},
   "outputs": [],
   "source": [
    "from selenium import webdriver\n",
    "from bs4 import BeautifulSoup\n",
    "import urllib.request\n",
    "from urllib.request import HTTPError"
   ]
  },
  {
   "cell_type": "code",
   "execution_count": 52,
   "metadata": {},
   "outputs": [],
   "source": [
    "def process(url):\n",
    "    driver.get(url)\n",
    "    html=driver.page_source\n",
    "    bsObject=BeautifulSoup(html,\"html.parser\")\n",
    "    target=bsObject.body.find('div',class_=\"browsing-product-list\")\n",
    "    dic={}\n",
    "    for figure in target.find_all('figure',class_=\"browsing-product-item\"):\n",
    "        img=figure.find('picture').img.get('data-srcset')\n",
    "        inf=figure.find('div',class_=\"browsing-product-description\")\n",
    "        brand=inf.find('p',class_=\"bold\").text.strip()\n",
    "        name=inf.find('p',class_=\"product-name-plp\").text.strip()\n",
    "        imgName=(brand+\"-\"+name).replace(' ','_').replace('/','_')\n",
    "        try:\n",
    "            urllib.request.urlretrieve(img,\"./picture/\"+imgName+\".jpg\")\n",
    "        except HTTPError as e:\n",
    "            print(\"No Picture\")"
   ]
  },
  {
   "cell_type": "code",
   "execution_count": 54,
   "metadata": {
    "scrolled": false
   },
   "outputs": [],
   "source": [
    "driver=webdriver.Chrome('/Users/Seungmin/chromedriver')\n",
    "driver.implicitly_wait(3)"
   ]
  },
  {
   "cell_type": "code",
   "execution_count": null,
   "metadata": {},
   "outputs": [],
   "source": [
    "womenUrl='https://www.ssense.com/en-kr/women/shoes'\n",
    "women=driver.get(womenUrl)\n",
    "html=driver.page_source\n",
    "bsObject=BeautifulSoup(html,\"html.parser\")\n",
    "womenPage=bsObject.body.find('li',class_=\"last-page\").text\n",
    "for i in range(1,int(womenPage)+1):\n",
    "    process(womenUrl+\"?page=\"+str(i))"
   ]
  },
  {
   "cell_type": "code",
   "execution_count": 56,
   "metadata": {},
   "outputs": [],
   "source": [
    "menUrl='https://www.ssense.com/en-kr/men/shoes'\n",
    "men=driver.get(menUrl)\n",
    "html=driver.page_source\n",
    "bsObject=BeautifulSoup(html,\"html.parser\")\n",
    "menPage=bsObject.body.find('li',class_=\"last-page\").text\n",
    "for i in range(1,int(menPage)+1):\n",
    "    process(menUrl+\"?page=\"+str(i))"
   ]
  }
 ],
 "metadata": {
  "kernelspec": {
   "display_name": "Python 3",
   "language": "python",
   "name": "python3"
  },
  "language_info": {
   "codemirror_mode": {
    "name": "ipython",
    "version": 3
   },
   "file_extension": ".py",
   "mimetype": "text/x-python",
   "name": "python",
   "nbconvert_exporter": "python",
   "pygments_lexer": "ipython3",
   "version": "3.7.6"
  }
 },
 "nbformat": 4,
 "nbformat_minor": 4
}
